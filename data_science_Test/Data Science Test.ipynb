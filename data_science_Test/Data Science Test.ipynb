{
 "cells": [
  {
   "cell_type": "markdown",
   "metadata": {},
   "source": [
    "# Data Science Test"
   ]
  },
  {
   "cell_type": "markdown",
   "metadata": {},
   "source": [
    "### Question 1\n",
    "There are two dice. A person rolls the first die. If the number is higher than 2, they roll the first dice again. Otherwise, they roll a second dice. If the number on the second dice is greater than 5, they score 1 point. If the number on the second die is less than or equal to 5, they score 2 points.\n",
    "\n",
    "What is the expectation value and variance if this game is played many times?"
   ]
  },
  {
   "cell_type": "markdown",
   "metadata": {},
   "source": [
    "$x_1$ : result of the dice 1\n",
    "\n",
    "$x_2$ : result of the dice 2\n",
    "\n",
    "$$\n",
    "A = x_1>2\\\\\n",
    "B = x_2>5\\\\\n",
    "C = x_2\\leq5\n",
    "$$\n",
    "\n",
    "probability of roll the second dice 2: \n",
    "$$\n",
    "P(A) = 4/6 = 66\\% \\\\\n",
    "P(B) = 1/6 = 17\\% \\\\\n",
    "P(C) = 5/6 = 83\\% \\\\\n",
    "$$\n",
    "\n",
    "probability of score 1 point:\n",
    "\n",
    "\n",
    "$$\n",
    "P(B | A) = \\frac{P( B \\cap A) }{P(B)}  = \\frac{P(B) \\cdot P(A)}{P(A)}  = \\frac{1/6 \\cdot 4/6}{4/6} = 1/6 = 17 \\% \n",
    "$$\n",
    "\n",
    "probability of score 2 points:\n",
    "\n",
    "\n",
    "$$\n",
    "P(C | A) = \\frac{P( C \\cap A) }{P(C)}  = \\frac{P(C) \\cdot P(A)}{P(A)}  = \\frac{5/6 \\cdot 4/6}{4/6} = 5/6 = 83 \\% \n",
    "$$\n",
    "\n",
    "Expected value $n=1000$\n",
    "$$\n",
    "E = \\sum_{i\\in (A, B, C)} n \\cdot P(i) = 1000\\cdot 1/6 \\cdot (1) + 1000\\cdot 5/6 \\cdot (2) = 1831\n",
    "$$"
   ]
  },
  {
   "cell_type": "code",
   "execution_count": 15,
   "metadata": {},
   "outputs": [
    {
     "name": "stdout",
     "output_type": "stream",
     "text": [
      "1831.499999999975\n"
     ]
    }
   ],
   "source": [
    "score = 0 \n",
    "prob_1_point = 1/6\n",
    "prob_2_point = 5/6\n",
    "for n in range(1, 1000):\n",
    "    score = score + (prob_1_point*1 + prob_2_point*2)\n",
    "\n",
    "print(score)"
   ]
  },
  {
   "cell_type": "markdown",
   "metadata": {},
   "source": [
    "### Question 2\n",
    "A string, S, containing N brackets is correctly matched if any of these criteria are met:\n",
    "* len(S)==0,\n",
    "\n",
    "* S is “(A)”or “[A]”or“{A}”,where A is a correctly matched string\n",
    "* S is “AB”, where both A and B are correctly matched strings.\n",
    "\n",
    "For example, “{}([[]])” and “()[]” are considered matched, whereas “(]()” and “(({)})” are not.\n",
    "Please write a function, “is_matched(S)”, that returns True if S is correctly matched and False if not.\n",
    "\n",
    "* You can assume that the string S contains only brackets and is shorter than 200,000 characters.\n",
    "* The time and space complex it is of your answer should be O(n).\n",
    "\n",
    "(Note: Please use Python if you are comfortable with it, although any other programming language is acceptable if not.)"
   ]
  },
  {
   "cell_type": "code",
   "execution_count": null,
   "metadata": {},
   "outputs": [],
   "source": []
  },
  {
   "cell_type": "code",
   "execution_count": null,
   "metadata": {},
   "outputs": [],
   "source": []
  },
  {
   "cell_type": "code",
   "execution_count": null,
   "metadata": {},
   "outputs": [],
   "source": []
  },
  {
   "cell_type": "markdown",
   "metadata": {},
   "source": [
    "### Question 3\n",
    "\n",
    "You are given data of total (aggregated) power consumption, and the TV power consumption of three households. Each household has data for one day.\n",
    "\n",
    "_Task 1_: Using TV instantaneous power consumption data, identify the times when the TV is “ON”. Notice that some TVs may have standby modes.\n",
    "\n",
    "_Task 2_: Using all the data given, design a classifier to identify times when the TV is “ON”. You may also want to train and test your designed classifier. The trained classifier should not take TV instantaneous power as input.\n",
    "Please provide a script which attempts task 1 and 2. Please do not provide a script without explanations.\n",
    "Additional information:\n",
    "\n",
    "Data format in the attached .csv file: “House” column indicates which house it is, ranging from 1 to 3. “Time” column indicates time stamps. “TV” column indicates TV instantaneous power consumption. “Agg” column indicates total (aggregated) instantaneous power consumption. Sampling rate is 1/60 Hz."
   ]
  },
  {
   "cell_type": "code",
   "execution_count": null,
   "metadata": {},
   "outputs": [],
   "source": []
  },
  {
   "cell_type": "code",
   "execution_count": null,
   "metadata": {},
   "outputs": [],
   "source": []
  },
  {
   "cell_type": "markdown",
   "metadata": {},
   "source": [
    "__Question 4__\n",
    "\n",
    "You are given a dataset that contains occurences of the Kettle in a single-occupancy house for the duration of a month. In this dataset, ‘ts’ column indicates the unix-timestamp (this can be converted to date and time) that the kettle was turned ON; and the ‘second’ column indicates the duration in seconds that the kettle was ON.\n",
    "\n",
    "__Task 1__: Find routines in the data, evaluate their periodicities and variabilities. For instance, a routine could be “breakfast”, its periodicity might be every day at a certain time and variability might be a time window within the routine occurred.\n",
    "\n",
    "__Task 2__: Detect anomalies whenever there is a deviation from the routines.\n",
    "Please provide a script which attempts task 1 and 2. Please do not provide a script without explanations.\n"
   ]
  },
  {
   "cell_type": "code",
   "execution_count": null,
   "metadata": {},
   "outputs": [],
   "source": []
  }
 ],
 "metadata": {
  "kernelspec": {
   "display_name": "Python 3",
   "language": "python",
   "name": "python3"
  },
  "language_info": {
   "codemirror_mode": {
    "name": "ipython",
    "version": 3
   },
   "file_extension": ".py",
   "mimetype": "text/x-python",
   "name": "python",
   "nbconvert_exporter": "python",
   "pygments_lexer": "ipython3",
   "version": "3.7.3"
  }
 },
 "nbformat": 4,
 "nbformat_minor": 2
}
